{
 "cells": [
  {
   "cell_type": "code",
   "execution_count": 3,
   "metadata": {},
   "outputs": [
    {
     "name": "stdout",
     "output_type": "stream",
     "text": [
      "Enter First Name: Faizan\n",
      "Enter last name: Khan\n",
      "In Reverse Order: Khan Faizan\n"
     ]
    }
   ],
   "source": [
    "#Print name in reverse:\n",
    "firstName=input(\"Enter First Name: \")\n",
    "lastName=input(\"Enter last name: \")\n",
    "print(\"In Reverse Order: \"+lastName+\" \"+firstName)"
   ]
  },
  {
   "cell_type": "code",
   "execution_count": 6,
   "metadata": {},
   "outputs": [
    {
     "name": "stdout",
     "output_type": "stream",
     "text": [
      "Enter Radius : 3\n",
      "Circle Area is : 28\n"
     ]
    }
   ],
   "source": [
    "#Compute Circle Area:\n",
    "radius=int(input(\"Enter Radius : \"))\n",
    "circle_area=int(3.141*(radius**2))\n",
    "print(\"Circle Area is : \"+str(circle_area))"
   ]
  },
  {
   "cell_type": "code",
   "execution_count": 7,
   "metadata": {},
   "outputs": [
    {
     "name": "stdout",
     "output_type": "stream",
     "text": [
      "Enter 1st Number: 4\n",
      "Enter 2nd Number: 5\n",
      "9\n"
     ]
    }
   ],
   "source": [
    "#take two no input and add\n",
    "a=int(input(\"Enter 1st Number: \"))\n",
    "b=int(input(\"Enter 2nd Number: \"))\n",
    "c=a+b\n",
    "print(c)"
   ]
  },
  {
   "cell_type": "code",
   "execution_count": 9,
   "metadata": {},
   "outputs": [
    {
     "name": "stdout",
     "output_type": "stream",
     "text": [
      "Twinkle, twinkle, little star,\n",
      "      How I wonder what you are!\n",
      "            Up above the world so high,\n",
      "            Like a diamond in the sky.\n",
      "Twinkle, twinkle, little star,\n",
      "      How I wonder what you are\n"
     ]
    }
   ],
   "source": [
    "print(\"Twinkle, twinkle, little star,\\n      How I wonder what you are!\\n            Up above the world so high,\\n            Like a diamond in the sky.\\nTwinkle, twinkle, little star,\\n      How I wonder what you are\")"
   ]
  },
  {
   "cell_type": "code",
   "execution_count": 10,
   "metadata": {},
   "outputs": [
    {
     "name": "stdout",
     "output_type": "stream",
     "text": [
      "Enter 1st no: 2\n",
      "Enter 2nd no: 3\n",
      "Python version 3\n"
     ]
    }
   ],
   "source": [
    "#Python version checking program:\n",
    "a=int(input(\"Enter 1st no: \"))\n",
    "b=int(input(\"Enter 2nd no: \"))\n",
    "c=a/b\n",
    "if c==a//b :\n",
    "    print(\"Python version 2\")\n",
    "else :\n",
    "    print(\"Python version 3\")"
   ]
  },
  {
   "cell_type": "code",
   "execution_count": null,
   "metadata": {},
   "outputs": [],
   "source": []
  }
 ],
 "metadata": {
  "kernelspec": {
   "display_name": "Python 3",
   "language": "python",
   "name": "python3"
  },
  "language_info": {
   "codemirror_mode": {
    "name": "ipython",
    "version": 3
   },
   "file_extension": ".py",
   "mimetype": "text/x-python",
   "name": "python",
   "nbconvert_exporter": "python",
   "pygments_lexer": "ipython3",
   "version": "3.7.4"
  }
 },
 "nbformat": 4,
 "nbformat_minor": 2
}
